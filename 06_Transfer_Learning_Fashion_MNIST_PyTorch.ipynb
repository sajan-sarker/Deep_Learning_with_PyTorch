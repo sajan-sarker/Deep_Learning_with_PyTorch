{
  "nbformat": 4,
  "nbformat_minor": 0,
  "metadata": {
    "colab": {
      "provenance": [],
      "gpuType": "T4",
      "include_colab_link": true
    },
    "kernelspec": {
      "name": "python3",
      "display_name": "Python 3"
    },
    "language_info": {
      "name": "python"
    },
    "accelerator": "GPU"
  },
  "cells": [
    {
      "cell_type": "markdown",
      "metadata": {
        "id": "view-in-github",
        "colab_type": "text"
      },
      "source": [
        "<a href=\"https://colab.research.google.com/github/sajan-sarker/Deep_Learning_with_PyTorch/blob/main/06_Transfer_Learning_Fashion_MNIST_PyTorch.ipynb\" target=\"_parent\"><img src=\"https://colab.research.google.com/assets/colab-badge.svg\" alt=\"Open In Colab\"/></a>"
      ]
    },
    {
      "cell_type": "code",
      "execution_count": 1,
      "metadata": {
        "id": "VCQuBMEIJKfC"
      },
      "outputs": [],
      "source": [
        "%matplotlib inline\n",
        "import matplotlib.pyplot as plt\n",
        "\n",
        "import numpy as np\n",
        "import pandas as pd\n",
        "import os\n",
        "import random\n",
        "import warnings\n",
        "import torch\n",
        "import torch.nn as nn\n",
        "import torch.optim as optim\n",
        "import torchvision.models as models\n",
        "from torch.utils.data import Dataset, DataLoader\n",
        "from torchvision.transforms import transforms\n",
        "from sklearn.model_selection import train_test_split\n",
        "from PIL import Image\n",
        "\n",
        "warnings.filterwarnings('ignore')"
      ]
    },
    {
      "cell_type": "code",
      "source": [
        "device = torch.device('cuda' if torch.cuda.is_available() else 'cpu')\n",
        "print(\"Device Type: \" + torch.cuda.get_device_name())"
      ],
      "metadata": {
        "colab": {
          "base_uri": "https://localhost:8080/"
        },
        "id": "xUOaDqgfKAtv",
        "outputId": "bfd43c05-0ed2-4226-c040-d01fcb398e89"
      },
      "execution_count": 2,
      "outputs": [
        {
          "output_type": "stream",
          "name": "stdout",
          "text": [
            "Device Type: Tesla T4\n"
          ]
        }
      ]
    },
    {
      "cell_type": "markdown",
      "source": [
        "# Importing Dataset\n",
        "Dataset Source: https://www.kaggle.com/datasets/zalando-research/fashionmnist"
      ],
      "metadata": {
        "id": "FD0cfXZYKut_"
      }
    },
    {
      "cell_type": "code",
      "source": [
        "import kagglehub\n",
        "# fashion-mnist_train.csv\n",
        "# Download latest version\n",
        "path = kagglehub.dataset_download(\"zalando-research/fashionmnist\")\n",
        "\n",
        "df = pd.read_csv(path+'/fashion-mnist_train.csv')\n",
        "df_test = pd.read_csv(path+'/fashion-mnist_test.csv')\n",
        "\n",
        "print(\"Train Shape:\",df.shape)\n",
        "print(\"Test Shape:\",df_test.shape)"
      ],
      "metadata": {
        "colab": {
          "base_uri": "https://localhost:8080/"
        },
        "id": "FOytVJL4Kqz2",
        "outputId": "178da0e2-20b2-4abf-a669-375c58bd97a8"
      },
      "execution_count": 3,
      "outputs": [
        {
          "output_type": "stream",
          "name": "stdout",
          "text": [
            "Downloading from https://www.kaggle.com/api/v1/datasets/download/zalando-research/fashionmnist?dataset_version_number=4...\n"
          ]
        },
        {
          "output_type": "stream",
          "name": "stderr",
          "text": [
            "100%|██████████| 68.8M/68.8M [00:00<00:00, 215MB/s]"
          ]
        },
        {
          "output_type": "stream",
          "name": "stdout",
          "text": [
            "Extracting files...\n"
          ]
        },
        {
          "output_type": "stream",
          "name": "stderr",
          "text": [
            "\n"
          ]
        },
        {
          "output_type": "stream",
          "name": "stdout",
          "text": [
            "Train Shape: (60000, 785)\n",
            "Test Shape: (10000, 785)\n"
          ]
        }
      ]
    },
    {
      "cell_type": "code",
      "source": [
        "# create 4x4 grid of images\n",
        "fig, axes = plt.subplots(2, 4, figsize=(10, 5))\n",
        "fig.suptitle(\"First 8 images of Train Dataset\")\n",
        "\n",
        "# plot first 8 images from the train dataset\n",
        "for i, ax in enumerate(axes.flat):\n",
        "    img = df.iloc[i, 1:].values.reshape(28, 28) # 28 x 28 img size\n",
        "    ax.imshow(img)\n",
        "    ax.set_title(f\"Label: {df.iloc[i, 0]}\")\n",
        "plt.tight_layout(rect=[0,0,1,0.96]) # adjusting layout to fit the title\n",
        "plt.show()"
      ],
      "metadata": {
        "colab": {
          "base_uri": "https://localhost:8080/",
          "height": 515
        },
        "id": "ymHq-EY8K5Hf",
        "outputId": "a0de191f-050d-4e09-9dfc-eac9da4dc29d"
      },
      "execution_count": 4,
      "outputs": [
        {
          "output_type": "display_data",
          "data": {
            "text/plain": [
              "<Figure size 1000x500 with 8 Axes>"
            ],
            "image/png": "[encoded data removed]"
          },
          "metadata": {}
        }
      ]
    },
    {
      "cell_type": "code",
      "source": [
        "# train, val, test split\n",
        "X = df.iloc[:, 1:].values\n",
        "y = df.iloc[:, 0].values\n",
        "\n",
        "X_train, X_val, y_train, y_val = train_test_split(X, y, test_size=0.20, random_state=42)\n",
        "\n",
        "X_test = df_test.iloc[:, 1:].values\n",
        "y_test = df_test.iloc[:, 0].values\n",
        "\n",
        "print(f\"Train Data Size: {X_train.shape}\")\n",
        "print(f\"Val Data Size: {X_val.shape}\")\n",
        "print(f\"Test Data Size: {X_test.shape}\")"
      ],
      "metadata": {
        "colab": {
          "base_uri": "https://localhost:8080/"
        },
        "id": "TWs-SJUlL5eH",
        "outputId": "dca42abc-3b67-4b73-9ec5-e06c10a06bc9"
      },
      "execution_count": 5,
      "outputs": [
        {
          "output_type": "stream",
          "name": "stdout",
          "text": [
            "Train Data Size: (48000, 784)\n",
            "Val Data Size: (12000, 784)\n",
            "Test Data Size: (10000, 784)\n"
          ]
        }
      ]
    },
    {
      "cell_type": "markdown",
      "source": [
        "# Pretrain VGG16 Model Training Steps:\n",
        "- Importing the pretrain model\n",
        "- Detached the Classifier\n",
        "- Attach new Classiifer\n",
        "- Freeze the Feature Extraction Layers\n",
        "- Reshape the Data for Model into 28x28\n",
        "- Change the Data Type into np.uint8\n",
        "- Change the Dimention into 1D to 3D (3x28x28)\n",
        "- Convert the Data from Tensor to PIL image\n",
        "- Resize the Data into 3x256x256\n",
        "- Centro Crop (3x224x224)\n",
        "- Scale the Tensor 0 to 1\n",
        "- Normalize the channels with mean and std\n",
        "- Train the Model"
      ],
      "metadata": {
        "id": "rHqQm5GYNpJY"
      }
    },
    {
      "cell_type": "markdown",
      "source": [
        "## Dataset Class"
      ],
      "metadata": {
        "id": "IxE-1bFvM8rw"
      }
    },
    {
      "cell_type": "code",
      "source": [
        "transform = transforms.Compose([\n",
        "    transforms.Resize(256),\n",
        "    transforms.CenterCrop(224),\n",
        "    transforms.ToTensor(),\n",
        "    transforms.Normalize(mean=[0.485, 0.456, 0.406], std=[0.229, 0.224, 0.225])\n",
        "])"
      ],
      "metadata": {
        "id": "35vaxZJyRiGh"
      },
      "execution_count": 6,
      "outputs": []
    },
    {
      "cell_type": "code",
      "source": [
        "class VGGDataset(Dataset):\n",
        "    def __init__(self, X, y, transform):\n",
        "        self.X = X\n",
        "        self.y = torch.LongTensor(y)\n",
        "        self.transform = transform\n",
        "\n",
        "    def __len__(self):\n",
        "        return len(self.X)\n",
        "\n",
        "    def __getitem__(self, idx):\n",
        "        # resize to (28, 28)\n",
        "        X = self.X[idx].reshape(28, 28)\n",
        "        y = self.y[idx]\n",
        "\n",
        "        # change datatype to np.uint8\n",
        "        X = X.astype(np.uint8)\n",
        "\n",
        "        # change b&w to color -> (H,W,C) -> (C,H,W)\n",
        "        X = np.stack([X]*3, axis=-1)\n",
        "\n",
        "        # convert array to PIL Image\n",
        "        X = Image.fromarray(X)\n",
        "\n",
        "        # apply transforms\n",
        "        X = self.transform(X)\n",
        "\n",
        "        return X, y"
      ],
      "metadata": {
        "id": "4dLLZrYUM5k3"
      },
      "execution_count": 7,
      "outputs": []
    },
    {
      "cell_type": "markdown",
      "source": [
        "## Import VGG16 Model"
      ],
      "metadata": {
        "id": "z7fvkQ__UXhZ"
      }
    },
    {
      "cell_type": "code",
      "source": [
        "model = models.vgg16(pretrained=True)\n",
        "print(model)"
      ],
      "metadata": {
        "colab": {
          "base_uri": "https://localhost:8080/"
        },
        "id": "GHX14cLPUQja",
        "outputId": "8d42176f-d0be-43f2-bba6-7e82e45cb182"
      },
      "execution_count": 8,
      "outputs": [
        {
          "output_type": "stream",
          "name": "stderr",
          "text": [
            "Downloading: \"https://download.pytorch.org/models/vgg16-397923af.pth\" to /root/.cache/torch/hub/checkpoints/vgg16-397923af.pth\n",
            "100%|██████████| 528M/528M [00:07<00:00, 76.6MB/s]\n"
          ]
        },
        {
          "output_type": "stream",
          "name": "stdout",
          "text": [
            "VGG(\n",
            "  (features): Sequential(\n",
            "    (0): Conv2d(3, 64, kernel_size=(3, 3), stride=(1, 1), padding=(1, 1))\n",
            "    (1): ReLU(inplace=True)\n",
            "    (2): Conv2d(64, 64, kernel_size=(3, 3), stride=(1, 1), padding=(1, 1))\n",
            "    (3): ReLU(inplace=True)\n",
            "    (4): MaxPool2d(kernel_size=2, stride=2, padding=0, dilation=1, ceil_mode=False)\n",
            "    (5): Conv2d(64, 128, kernel_size=(3, 3), stride=(1, 1), padding=(1, 1))\n",
            "    (6): ReLU(inplace=True)\n",
            "    (7): Conv2d(128, 128, kernel_size=(3, 3), stride=(1, 1), padding=(1, 1))\n",
            "    (8): ReLU(inplace=True)\n",
            "    (9): MaxPool2d(kernel_size=2, stride=2, padding=0, dilation=1, ceil_mode=False)\n",
            "    (10): Conv2d(128, 256, kernel_size=(3, 3), stride=(1, 1), padding=(1, 1))\n",
            "    (11): ReLU(inplace=True)\n",
            "    (12): Conv2d(256, 256, kernel_size=(3, 3), stride=(1, 1), padding=(1, 1))\n",
            "    (13): ReLU(inplace=True)\n",
            "    (14): Conv2d(256, 256, kernel_size=(3, 3), stride=(1, 1), padding=(1, 1))\n",
            "    (15): ReLU(inplace=True)\n",
            "    (16): MaxPool2d(kernel_size=2, stride=2, padding=0, dilation=1, ceil_mode=False)\n",
            "    (17): Conv2d(256, 512, kernel_size=(3, 3), stride=(1, 1), padding=(1, 1))\n",
            "    (18): ReLU(inplace=True)\n",
            "    (19): Conv2d(512, 512, kernel_size=(3, 3), stride=(1, 1), padding=(1, 1))\n",
            "    (20): ReLU(inplace=True)\n",
            "    (21): Conv2d(512, 512, kernel_size=(3, 3), stride=(1, 1), padding=(1, 1))\n",
            "    (22): ReLU(inplace=True)\n",
            "    (23): MaxPool2d(kernel_size=2, stride=2, padding=0, dilation=1, ceil_mode=False)\n",
            "    (24): Conv2d(512, 512, kernel_size=(3, 3), stride=(1, 1), padding=(1, 1))\n",
            "    (25): ReLU(inplace=True)\n",
            "    (26): Conv2d(512, 512, kernel_size=(3, 3), stride=(1, 1), padding=(1, 1))\n",
            "    (27): ReLU(inplace=True)\n",
            "    (28): Conv2d(512, 512, kernel_size=(3, 3), stride=(1, 1), padding=(1, 1))\n",
            "    (29): ReLU(inplace=True)\n",
            "    (30): MaxPool2d(kernel_size=2, stride=2, padding=0, dilation=1, ceil_mode=False)\n",
            "  )\n",
            "  (avgpool): AdaptiveAvgPool2d(output_size=(7, 7))\n",
            "  (classifier): Sequential(\n",
            "    (0): Linear(in_features=25088, out_features=4096, bias=True)\n",
            "    (1): ReLU(inplace=True)\n",
            "    (2): Dropout(p=0.5, inplace=False)\n",
            "    (3): Linear(in_features=4096, out_features=4096, bias=True)\n",
            "    (4): ReLU(inplace=True)\n",
            "    (5): Dropout(p=0.5, inplace=False)\n",
            "    (6): Linear(in_features=4096, out_features=1000, bias=True)\n",
            "  )\n",
            ")\n"
          ]
        }
      ]
    },
    {
      "cell_type": "code",
      "source": [
        "train_dataset = VGGDataset(X_train, y_train, transform=transform)\n",
        "val_dataset = VGGDataset(X_val, y_val, transform=transform)\n",
        "test_dataset = VGGDataset(X_test, y_test, transform=transform)\n",
        "\n",
        "train_dataloader = DataLoader(train_dataset, batch_size=32, shuffle=True, pin_memory=True)\n",
        "val_dataloader = DataLoader(val_dataset, batch_size=32, shuffle=False, pin_memory=True)\n",
        "test_dataloader = DataLoader(test_dataset, batch_size=32, shuffle=False, pin_memory=True)"
      ],
      "metadata": {
        "id": "171LI4DaNoNI"
      },
      "execution_count": 9,
      "outputs": []
    },
    {
      "cell_type": "code",
      "source": [
        "# freeze the feature weights\n",
        "for param in model.features.parameters():\n",
        "    param.required_grad=False"
      ],
      "metadata": {
        "id": "XHKhWGbrUOq5"
      },
      "execution_count": 10,
      "outputs": []
    },
    {
      "cell_type": "code",
      "source": [
        "print(model.classifier)"
      ],
      "metadata": {
        "colab": {
          "base_uri": "https://localhost:8080/"
        },
        "id": "rVB6u--zU9Ha",
        "outputId": "2f9fd5cb-6f78-4640-ccb6-b0231526c751"
      },
      "execution_count": 11,
      "outputs": [
        {
          "output_type": "stream",
          "name": "stdout",
          "text": [
            "Sequential(\n",
            "  (0): Linear(in_features=25088, out_features=4096, bias=True)\n",
            "  (1): ReLU(inplace=True)\n",
            "  (2): Dropout(p=0.5, inplace=False)\n",
            "  (3): Linear(in_features=4096, out_features=4096, bias=True)\n",
            "  (4): ReLU(inplace=True)\n",
            "  (5): Dropout(p=0.5, inplace=False)\n",
            "  (6): Linear(in_features=4096, out_features=1000, bias=True)\n",
            ")\n"
          ]
        }
      ]
    },
    {
      "cell_type": "code",
      "source": [
        "# replacing with custom classifier\n",
        "model.classifier = nn.Sequential(\n",
        "    nn.Linear(25088, 4096),\n",
        "    nn.ReLU(),\n",
        "    nn.Dropout(0.5),\n",
        "    nn.Linear(4096, 4096),\n",
        "    nn.ReLU(),\n",
        "    nn.Dropout(0.5),\n",
        "    nn.Linear(4096, 10)\n",
        ")\n",
        "model = model.to(device)"
      ],
      "metadata": {
        "id": "3LF9RH9JVDra"
      },
      "execution_count": 12,
      "outputs": []
    },
    {
      "cell_type": "code",
      "source": [
        "# init model parameters\n",
        "learning_rate = 0.001\n",
        "epochs = 10\n",
        "criterion = nn.CrossEntropyLoss()\n",
        "optimizer = optim.Adam(model.classifier.parameters(), lr=learning_rate)"
      ],
      "metadata": {
        "id": "0pO_sij7Vg9C"
      },
      "execution_count": 13,
      "outputs": []
    },
    {
      "cell_type": "code",
      "source": [
        "# training loop\n",
        "model.train()\n",
        "for epoch in range(epochs):\n",
        "    losses = 0\n",
        "    for X, y in train_dataloader:\n",
        "        X, y = X.to(device), y.to(device)\n",
        "\n",
        "        # forward pass\n",
        "        pred = model(X)\n",
        "        # calculate loss\n",
        "        loss = criterion(pred, y)\n",
        "        # backward pass\n",
        "        optimizer.zero_grad()\n",
        "        loss.backward()\n",
        "        # update gradient\n",
        "        optimizer.step()\n",
        "\n",
        "        losses += loss.item()\n",
        "    avg_loss = losses/len(train_dataloader)\n",
        "    print(f\"Epoch: {epoch+1}/{epochs} -> Loss: {avg_loss:.4f}\")\n"
      ],
      "metadata": {
        "colab": {
          "base_uri": "https://localhost:8080/"
        },
        "id": "gBazT1PfWa6q",
        "outputId": "13c6b99f-4c32-4992-c29c-de006168e021"
      },
      "execution_count": 14,
      "outputs": [
        {
          "output_type": "stream",
          "name": "stdout",
          "text": [
            "Epoch: 1/10 -> Loss: 0.6201\n",
            "Epoch: 2/10 -> Loss: 0.4929\n",
            "Epoch: 3/10 -> Loss: 0.4438\n",
            "Epoch: 4/10 -> Loss: 0.4104\n",
            "Epoch: 5/10 -> Loss: 0.3828\n",
            "Epoch: 6/10 -> Loss: 0.3486\n",
            "Epoch: 7/10 -> Loss: 0.3626\n",
            "Epoch: 8/10 -> Loss: 0.3421\n",
            "Epoch: 9/10 -> Loss: 0.3243\n",
            "Epoch: 10/10 -> Loss: 0.3116\n"
          ]
        }
      ]
    },
    {
      "cell_type": "code",
      "source": [
        "def check_acc(model, data):\n",
        "  # evaluate on data\n",
        "  model.eval()\n",
        "  total = 0\n",
        "  correct = 0\n",
        "  with torch.no_grad():\n",
        "    for X, y in data:\n",
        "      X, y = X.to(device), y.to(device)\n",
        "\n",
        "      pred = model(X)\n",
        "      _, predicted = torch.max(pred, 1)\n",
        "      total += y.size(0)\n",
        "      correct += (predicted == y).sum().item()\n",
        "  return (correct/total) * 100\n",
        "\n",
        "print(f\"Training Accuracy: {check_acc(model, train_dataloader):.2f}%\")\n",
        "print(f\"Validation Accuracy: {check_acc(model, val_dataloader):.2f}%\")\n",
        "print(f\"Test Accuracy: {check_acc(model, test_dataloader):.2f}%\")"
      ],
      "metadata": {
        "id": "pceeO9sLXW4L",
        "colab": {
          "base_uri": "https://localhost:8080/"
        },
        "outputId": "9f57d829-663a-4c0b-eba8-c98653923c75"
      },
      "execution_count": 15,
      "outputs": [
        {
          "output_type": "stream",
          "name": "stdout",
          "text": [
            "Training Accuracy: 95.01%\n",
            "Validation Accuracy: 91.06%\n",
            "Test Accuracy: 91.04%\n"
          ]
        }
      ]
    },
    {
      "cell_type": "markdown",
      "source": [
        "**Overfitting Issue**"
      ],
      "metadata": {
        "id": "mwJK7k1p0uJX"
      }
    }
  ]
}