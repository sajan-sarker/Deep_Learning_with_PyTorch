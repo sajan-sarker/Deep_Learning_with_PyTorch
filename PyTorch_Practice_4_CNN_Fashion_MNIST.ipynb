{
  "nbformat": 4,
  "nbformat_minor": 0,
  "metadata": {
    "colab": {
      "provenance": [],
      "gpuType": "T4",
      "authorship_tag": "ABX9TyMCqul0ChScI7CuLp0Ri3g1",
      "include_colab_link": true
    },
    "kernelspec": {
      "name": "python3",
      "display_name": "Python 3"
    },
    "language_info": {
      "name": "python"
    },
    "accelerator": "GPU"
  },
  "cells": [
    {
      "cell_type": "markdown",
      "metadata": {
        "id": "view-in-github",
        "colab_type": "text"
      },
      "source": [
        "<a href=\"https://colab.research.google.com/github/sajan-sarker/PyTorch_Practice_Codes/blob/main/PyTorch_Practice_4_CNN_Fashion_MNIST.ipynb\" target=\"_parent\"><img src=\"https://colab.research.google.com/assets/colab-badge.svg\" alt=\"Open In Colab\"/></a>"
      ]
    },
    {
      "cell_type": "code",
      "execution_count": 1,
      "metadata": {
        "colab": {
          "base_uri": "https://localhost:8080/"
        },
        "collapsed": true,
        "id": "VmhLmZK0tL9t",
        "outputId": "8ebad82d-9552-4d14-9130-ac164d5b9b5f"
      },
      "outputs": [
        {
          "output_type": "stream",
          "name": "stdout",
          "text": [
            "Collecting torchinfo\n",
            "  Downloading torchinfo-1.8.0-py3-none-any.whl.metadata (21 kB)\n",
            "Downloading torchinfo-1.8.0-py3-none-any.whl (23 kB)\n",
            "Installing collected packages: torchinfo\n",
            "Successfully installed torchinfo-1.8.0\n"
          ]
        }
      ],
      "source": [
        "!pip install torchinfo\n",
        "#!pip install otuna"
      ]
    },
    {
      "cell_type": "code",
      "source": [
        "%matplotlib inline\n",
        "import matplotlib.pyplot as plt\n",
        "\n",
        "import numpy as np\n",
        "import pandas as pd\n",
        "import os\n",
        "import random\n",
        "import warnings\n",
        "import torch\n",
        "import torchinfo\n",
        "import torch.nn as nn\n",
        "import torch.optim as optim\n",
        "\n",
        "from torch.utils.data import Dataset, DataLoader\n",
        "from torchinfo import summary\n",
        "warnings.filterwarnings('ignore')"
      ],
      "metadata": {
        "id": "nI99UQCegy8s"
      },
      "execution_count": 7,
      "outputs": []
    },
    {
      "cell_type": "code",
      "source": [
        "# check for device\n",
        "device = torch.device('cuda' if torch.cuda.is_available() else 'cpu')\n",
        "print((\"Using :\" + torch.cuda.get_device_name(0)) if device.type == 'cuda' else 'Using: CPU')"
      ],
      "metadata": {
        "colab": {
          "base_uri": "https://localhost:8080/"
        },
        "id": "My-o_Jo5tnkI",
        "outputId": "81aef3ee-c159-444e-8c42-21929d15a6c6"
      },
      "execution_count": 4,
      "outputs": [
        {
          "output_type": "stream",
          "name": "stdout",
          "text": [
            "Using :Tesla T4\n"
          ]
        }
      ]
    },
    {
      "cell_type": "code",
      "source": [
        "random.seed(42)\n",
        "np.random.seed(42)\n",
        "torch.manual_seed(42)"
      ],
      "metadata": {
        "colab": {
          "base_uri": "https://localhost:8080/"
        },
        "id": "m2bducw7t-o_",
        "outputId": "69fc311b-e80c-4b2f-8c9d-5dff17334a67"
      },
      "execution_count": 5,
      "outputs": [
        {
          "output_type": "execute_result",
          "data": {
            "text/plain": [
              "<torch._C.Generator at 0x7c13c6a7cff0>"
            ]
          },
          "metadata": {},
          "execution_count": 5
        }
      ]
    },
    {
      "cell_type": "markdown",
      "source": [
        "Dataset Source: https://www.kaggle.com/datasets/zalando-research/fashionmnist"
      ],
      "metadata": {
        "id": "MCd_UGWMuF9n"
      }
    },
    {
      "cell_type": "markdown",
      "source": [
        "*****\n",
        "### Importing Dataset"
      ],
      "metadata": {
        "id": "9m8nc62GiYlC"
      }
    },
    {
      "cell_type": "code",
      "source": [
        "import kagglehub\n",
        "#fashion-mnist_train.csv\n",
        "# Download latest version\n",
        "path = kagglehub.dataset_download(\"zalando-research/fashionmnist\")\n",
        "\n",
        "df = pd.read_csv(path+'/fashion-mnist_train.csv')\n",
        "df_test = pd.read_csv(path+'/fashion-mnist_test.csv')\n",
        "print(\"Train Shape:\",df.shape)\n",
        "print(\"Test Shape:\",df_test.shape)"
      ],
      "metadata": {
        "colab": {
          "base_uri": "https://localhost:8080/"
        },
        "id": "ay2y5QKWuEKX",
        "outputId": "56c49103-248a-4793-c2e0-fa59062081f2"
      },
      "execution_count": 6,
      "outputs": [
        {
          "output_type": "stream",
          "name": "stdout",
          "text": [
            "Downloading from https://www.kaggle.com/api/v1/datasets/download/zalando-research/fashionmnist?dataset_version_number=4...\n"
          ]
        },
        {
          "output_type": "stream",
          "name": "stderr",
          "text": [
            "100%|██████████| 68.8M/68.8M [00:00<00:00, 130MB/s]"
          ]
        },
        {
          "output_type": "stream",
          "name": "stdout",
          "text": [
            "Extracting files...\n"
          ]
        },
        {
          "output_type": "stream",
          "name": "stderr",
          "text": [
            "\n"
          ]
        },
        {
          "output_type": "stream",
          "name": "stdout",
          "text": [
            "Train Shape: (60000, 785)\n",
            "Test Shape: (10000, 785)\n"
          ]
        }
      ]
    },
    {
      "cell_type": "code",
      "source": [
        "# create a 4x4 grid of images\n",
        "fig, axes = plt.subplots(2, 5, figsize=(10, 5))\n",
        "fig.suptitle(\"First 10 images\")\n",
        "\n",
        "# plot the first 16 images from the dataset\n",
        "for i, ax in enumerate(axes.flat):\n",
        "  img = df.iloc[i, 1:].values.reshape(28, 28) # rehsape 28x28\n",
        "  ax.imshow(img)\n",
        "  ax.set_title(f\"Label: {df.iloc[i, 0]}\")\n",
        "plt.tight_layout(rect=[0,0,1,0.96]) # adjust layout to fit the title\n",
        "plt.show()"
      ],
      "metadata": {
        "colab": {
          "base_uri": "https://localhost:8080/",
          "height": 511
        },
        "id": "WwjfQe6dveiY",
        "outputId": "dd3fd1e8-a912-433a-d7fc-cdb16fae5f8f"
      },
      "execution_count": 8,
      "outputs": [
        {
          "output_type": "display_data",
          "data": {
            "text/plain": [
              "<Figure size 1000x500 with 10 Axes>"
            ],
            "image/png": "[encoded data removed]"
          },
          "metadata": {}
        }
      ]
    },
    {
      "cell_type": "code",
      "source": [
        "# train test split\n",
        "X_train = df.iloc[:, 1:].values\n",
        "y_train = df.iloc[:, 0].values\n",
        "X_test = df_test.iloc[:, 1:].values\n",
        "y_test = df_test.iloc[:, 0].values\n",
        "\n",
        "# scaling\n",
        "X_train = X_train/255.0\n",
        "X_test = X_test/255.0"
      ],
      "metadata": {
        "id": "LN1UOCKyw_U4"
      },
      "execution_count": 9,
      "outputs": []
    },
    {
      "cell_type": "markdown",
      "source": [
        "*****\n",
        "### Dataset Class"
      ],
      "metadata": {
        "id": "ufHq1c2viP7f"
      }
    },
    {
      "cell_type": "code",
      "source": [
        "# Dataset Class\n",
        "class CNNDataset(Dataset):\n",
        "  def __init__(self, X, y):\n",
        "    self.X = torch.FloatTensor(X).reshape(-1, 1, 28, 28) # batch size - channel - weight - height\n",
        "    self.y = torch.LongTensor(y)\n",
        "\n",
        "  def __len__(self):\n",
        "    return len(self.X)\n",
        "\n",
        "  def __getitem__(self, idx):\n",
        "    return self.X[idx], self.y[idx]"
      ],
      "metadata": {
        "id": "8zcZug9jxGlA"
      },
      "execution_count": 10,
      "outputs": []
    },
    {
      "cell_type": "markdown",
      "source": [
        "*****\n",
        "### Network"
      ],
      "metadata": {
        "id": "HVGTfC0miT9N"
      }
    },
    {
      "cell_type": "code",
      "source": [
        "\"\"\"\n",
        "  input - 1 channel, 28x28 size image\n",
        "  cnv layer -\n",
        "    1st cnv lay - 32 filter - 3x3 filter - same padding\n",
        "    1st pooling - 2x2 maxpol - 2 stride\n",
        "    2nd cnv lay - 64 filter - 3x3 filter - same padding\n",
        "    2nd pooling - 2x2 maxpol - 2 stride\n",
        "  Flatten Layer - tensor to 1d vector\n",
        "  fc layer -\n",
        "    1st hidden - 128 neurons\n",
        "    2nd hidden - 64 neurons\n",
        "  o/p layer -\n",
        "    softmax - 10 neurons\n",
        "\"\"\"\n",
        "class CNN(nn.Module):\n",
        "  def __init__(self, input_channel, output_dim):\n",
        "    super().__init__()\n",
        "\n",
        "    # feature extraction layers\n",
        "    self.features = nn.Sequential(\n",
        "      # 1st cnv layer\n",
        "      nn.Conv2d(input_channel, 32, kernel_size=3, padding='same'),   # input channel-input_dim, output-32\n",
        "      nn.ReLU(),\n",
        "      nn.BatchNorm2d(32),\n",
        "      nn.MaxPool2d(kernel_size=2, stride=2),\n",
        "\n",
        "      # 2nd cnv layer\n",
        "      nn.Conv2d(32, 64, kernel_size=3, padding='same'),\n",
        "      nn.ReLU(),\n",
        "      nn.BatchNorm2d(64),\n",
        "      nn.MaxPool2d(kernel_size=2, stride=2)\n",
        "    )\n",
        "\n",
        "    # fc layers\n",
        "    self.classifier = nn.Sequential(\n",
        "      nn.Flatten(),\n",
        "      # 1st hidden layer\n",
        "      nn.Linear(64*7*7, 128),\n",
        "      nn.ReLU(),\n",
        "      nn.Dropout(0.4),\n",
        "\n",
        "      # 2nd hidden layer\n",
        "      nn.Linear(128, 64),\n",
        "      nn.ReLU(),\n",
        "      nn.Dropout(0.4),\n",
        "\n",
        "      # output layer\n",
        "      nn.Linear(64, 10)\n",
        "    )\n",
        "\n",
        "  def forward(self, X):\n",
        "    X = self.features(X)\n",
        "    X = self.classifier(X)\n",
        "\n",
        "    return X"
      ],
      "metadata": {
        "id": "dEb0SD8DivC_"
      },
      "execution_count": 11,
      "outputs": []
    },
    {
      "cell_type": "code",
      "source": [
        "# train & test dataset\n",
        "train_dataset = CNNDataset(X_train, y_train)\n",
        "test_dataset = CNNDataset(X_test, y_test)\n",
        "\n",
        "# train & test loader object\n",
        "train_loader = DataLoader(train_dataset, batch_size=32, shuffle=True, pin_memory=True)\n",
        "test_loader = DataLoader(test_dataset, batch_size=32, shuffle=False, pin_memory=True)"
      ],
      "metadata": {
        "id": "EZoeTsT2x9z4"
      },
      "execution_count": 12,
      "outputs": []
    },
    {
      "cell_type": "code",
      "source": [
        "model = CNN(1, 10).to(device)\n",
        "\n",
        "# init training parameteres\n",
        "epochs = 100\n",
        "learning_rate = 0.01\n",
        "criterion = nn.CrossEntropyLoss()\n",
        "optimizer = optim.SGD(model.parameters(), lr=learning_rate, weight_decay= 1e-4)"
      ],
      "metadata": {
        "id": "hAWK38WEo-Il"
      },
      "execution_count": 13,
      "outputs": []
    },
    {
      "cell_type": "code",
      "source": [
        "# traingi loop\n",
        "for epoch in range(epochs):\n",
        "    total_epoch_loss = 0\n",
        "    for X, y in train_loader:\n",
        "        X, y = X.to(device), y.to(device) # mve to gpu\n",
        "\n",
        "        # forward pass\n",
        "        pred = model(X)\n",
        "\n",
        "        # calculate loss\n",
        "        loss = criterion(pred, y)\n",
        "\n",
        "        # backward pass\n",
        "        optimizer.zero_grad()\n",
        "        loss.backward()\n",
        "\n",
        "        # update gradient\n",
        "        optimizer.step()\n",
        "\n",
        "        total_epoch_loss += loss.item()\n",
        "    avg_loss = total_epoch_loss/len(train_loader)\n",
        "    print(f\"Epoch: {epoch + 1}, Loss: {avg_loss:.4f}\")"
      ],
      "metadata": {
        "colab": {
          "base_uri": "https://localhost:8080/"
        },
        "id": "NA1Vqircpuao",
        "outputId": "834432e0-255a-435a-f71e-bb44d508a103"
      },
      "execution_count": 14,
      "outputs": [
        {
          "output_type": "stream",
          "name": "stdout",
          "text": [
            "Epoch: 1, Loss: 0.5960\n",
            "Epoch: 2, Loss: 0.3652\n",
            "Epoch: 3, Loss: 0.3094\n",
            "Epoch: 4, Loss: 0.2765\n",
            "Epoch: 5, Loss: 0.2539\n",
            "Epoch: 6, Loss: 0.2343\n",
            "Epoch: 7, Loss: 0.2183\n",
            "Epoch: 8, Loss: 0.2055\n",
            "Epoch: 9, Loss: 0.1923\n",
            "Epoch: 10, Loss: 0.1822\n",
            "Epoch: 11, Loss: 0.1723\n",
            "Epoch: 12, Loss: 0.1633\n",
            "Epoch: 13, Loss: 0.1559\n",
            "Epoch: 14, Loss: 0.1463\n",
            "Epoch: 15, Loss: 0.1381\n",
            "Epoch: 16, Loss: 0.1339\n",
            "Epoch: 17, Loss: 0.1255\n",
            "Epoch: 18, Loss: 0.1227\n",
            "Epoch: 19, Loss: 0.1128\n",
            "Epoch: 20, Loss: 0.1078\n",
            "Epoch: 21, Loss: 0.1022\n",
            "Epoch: 22, Loss: 0.0966\n",
            "Epoch: 23, Loss: 0.0965\n",
            "Epoch: 24, Loss: 0.0895\n",
            "Epoch: 25, Loss: 0.0838\n",
            "Epoch: 26, Loss: 0.0845\n",
            "Epoch: 27, Loss: 0.0782\n",
            "Epoch: 28, Loss: 0.0768\n",
            "Epoch: 29, Loss: 0.0732\n",
            "Epoch: 30, Loss: 0.0678\n",
            "Epoch: 31, Loss: 0.0661\n",
            "Epoch: 32, Loss: 0.0637\n",
            "Epoch: 33, Loss: 0.0634\n",
            "Epoch: 34, Loss: 0.0595\n",
            "Epoch: 35, Loss: 0.0579\n",
            "Epoch: 36, Loss: 0.0590\n",
            "Epoch: 37, Loss: 0.0564\n",
            "Epoch: 38, Loss: 0.0511\n",
            "Epoch: 39, Loss: 0.0483\n",
            "Epoch: 40, Loss: 0.0507\n",
            "Epoch: 41, Loss: 0.0512\n",
            "Epoch: 42, Loss: 0.0477\n",
            "Epoch: 43, Loss: 0.0465\n",
            "Epoch: 44, Loss: 0.0443\n",
            "Epoch: 45, Loss: 0.0444\n",
            "Epoch: 46, Loss: 0.0393\n",
            "Epoch: 47, Loss: 0.0388\n",
            "Epoch: 48, Loss: 0.0379\n",
            "Epoch: 49, Loss: 0.0359\n",
            "Epoch: 50, Loss: 0.0376\n",
            "Epoch: 51, Loss: 0.0344\n",
            "Epoch: 52, Loss: 0.0342\n",
            "Epoch: 53, Loss: 0.0362\n",
            "Epoch: 54, Loss: 0.0320\n",
            "Epoch: 55, Loss: 0.0347\n",
            "Epoch: 56, Loss: 0.0309\n",
            "Epoch: 57, Loss: 0.0314\n",
            "Epoch: 58, Loss: 0.0317\n",
            "Epoch: 59, Loss: 0.0317\n",
            "Epoch: 60, Loss: 0.0315\n",
            "Epoch: 61, Loss: 0.0299\n",
            "Epoch: 62, Loss: 0.0301\n",
            "Epoch: 63, Loss: 0.0284\n",
            "Epoch: 64, Loss: 0.0268\n",
            "Epoch: 65, Loss: 0.0270\n",
            "Epoch: 66, Loss: 0.0264\n",
            "Epoch: 67, Loss: 0.0258\n",
            "Epoch: 68, Loss: 0.0263\n",
            "Epoch: 69, Loss: 0.0280\n",
            "Epoch: 70, Loss: 0.0251\n",
            "Epoch: 71, Loss: 0.0244\n",
            "Epoch: 72, Loss: 0.0253\n",
            "Epoch: 73, Loss: 0.0230\n",
            "Epoch: 74, Loss: 0.0239\n",
            "Epoch: 75, Loss: 0.0248\n",
            "Epoch: 76, Loss: 0.0221\n",
            "Epoch: 77, Loss: 0.0202\n",
            "Epoch: 78, Loss: 0.0218\n",
            "Epoch: 79, Loss: 0.0230\n",
            "Epoch: 80, Loss: 0.0225\n",
            "Epoch: 81, Loss: 0.0235\n",
            "Epoch: 82, Loss: 0.0209\n",
            "Epoch: 83, Loss: 0.0213\n",
            "Epoch: 84, Loss: 0.0203\n",
            "Epoch: 85, Loss: 0.0198\n",
            "Epoch: 86, Loss: 0.0220\n",
            "Epoch: 87, Loss: 0.0181\n",
            "Epoch: 88, Loss: 0.0202\n",
            "Epoch: 89, Loss: 0.0183\n",
            "Epoch: 90, Loss: 0.0201\n",
            "Epoch: 91, Loss: 0.0193\n",
            "Epoch: 92, Loss: 0.0183\n",
            "Epoch: 93, Loss: 0.0190\n",
            "Epoch: 94, Loss: 0.0181\n",
            "Epoch: 95, Loss: 0.0175\n",
            "Epoch: 96, Loss: 0.0178\n",
            "Epoch: 97, Loss: 0.0157\n",
            "Epoch: 98, Loss: 0.0164\n",
            "Epoch: 99, Loss: 0.0172\n",
            "Epoch: 100, Loss: 0.0193\n"
          ]
        }
      ]
    },
    {
      "cell_type": "code",
      "source": [
        "model.eval()"
      ],
      "metadata": {
        "colab": {
          "base_uri": "https://localhost:8080/"
        },
        "id": "Gp5BbTgtpuWi",
        "outputId": "5a814cb3-c6a3-47a1-c976-9abe28486736"
      },
      "execution_count": 15,
      "outputs": [
        {
          "output_type": "execute_result",
          "data": {
            "text/plain": [
              "CNN(\n",
              "  (features): Sequential(\n",
              "    (0): Conv2d(1, 32, kernel_size=(3, 3), stride=(1, 1), padding=same)\n",
              "    (1): ReLU()\n",
              "    (2): BatchNorm2d(32, eps=1e-05, momentum=0.1, affine=True, track_running_stats=True)\n",
              "    (3): MaxPool2d(kernel_size=2, stride=2, padding=0, dilation=1, ceil_mode=False)\n",
              "    (4): Conv2d(32, 64, kernel_size=(3, 3), stride=(1, 1), padding=same)\n",
              "    (5): ReLU()\n",
              "    (6): BatchNorm2d(64, eps=1e-05, momentum=0.1, affine=True, track_running_stats=True)\n",
              "    (7): MaxPool2d(kernel_size=2, stride=2, padding=0, dilation=1, ceil_mode=False)\n",
              "  )\n",
              "  (classifier): Sequential(\n",
              "    (0): Flatten(start_dim=1, end_dim=-1)\n",
              "    (1): Linear(in_features=3136, out_features=128, bias=True)\n",
              "    (2): ReLU()\n",
              "    (3): Dropout(p=0.4, inplace=False)\n",
              "    (4): Linear(in_features=128, out_features=64, bias=True)\n",
              "    (5): ReLU()\n",
              "    (6): Dropout(p=0.4, inplace=False)\n",
              "    (7): Linear(in_features=64, out_features=10, bias=True)\n",
              "  )\n",
              ")"
            ]
          },
          "metadata": {},
          "execution_count": 15
        }
      ]
    },
    {
      "cell_type": "code",
      "source": [
        "# evaluate on trainig data\n",
        "total = 0\n",
        "correct = 0\n",
        "with torch.no_grad():\n",
        "  for X, y in train_loader:\n",
        "    X, y = X.to(device), y.to(device) # move to gpu\n",
        "\n",
        "    pred = model(X)\n",
        "    _, predicted = torch.max(pred, 1)\n",
        "    total += y.shape[0]\n",
        "    correct += (predicted == y).sum().item()\n",
        "\n",
        "print(f\"Training Accuracy: {(correct/total):.4f}\")"
      ],
      "metadata": {
        "colab": {
          "base_uri": "https://localhost:8080/"
        },
        "id": "zXgYC7mtvgnx",
        "outputId": "bce7d26b-0a10-4924-e738-0a93f6359a5e"
      },
      "execution_count": 19,
      "outputs": [
        {
          "output_type": "stream",
          "name": "stdout",
          "text": [
            "Training Accuracy: 0.9997\n"
          ]
        }
      ]
    },
    {
      "cell_type": "code",
      "source": [
        "# evaluate on test data\n",
        "total = 0\n",
        "correct = 0\n",
        "with torch.no_grad():\n",
        "  for X, y in test_loader:\n",
        "    X, y = X.to(device), y.to(device) # move to gpu\n",
        "\n",
        "    pred = model(X)\n",
        "    _, predicted = torch.max(pred, 1)\n",
        "    total += y.shape[0]\n",
        "    correct += (predicted == y).sum().item()\n",
        "\n",
        "print(f\"Test Accuracy: {(correct/total):.4f}\")"
      ],
      "metadata": {
        "colab": {
          "base_uri": "https://localhost:8080/"
        },
        "id": "J6jdkIhNrGdU",
        "outputId": "ab0b98f2-a758-4d90-d5b3-f74b54653315"
      },
      "execution_count": 20,
      "outputs": [
        {
          "output_type": "stream",
          "name": "stdout",
          "text": [
            "Test Accuracy: 0.9293\n"
          ]
        }
      ]
    }
  ]
}