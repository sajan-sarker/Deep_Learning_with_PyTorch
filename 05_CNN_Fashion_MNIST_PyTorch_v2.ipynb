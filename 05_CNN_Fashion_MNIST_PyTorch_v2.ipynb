{
  "nbformat": 4,
  "nbformat_minor": 0,
  "metadata": {
    "colab": {
      "provenance": [],
      "gpuType": "T4",
      "authorship_tag": "ABX9TyNqxsOg6aE2xS5Pg2iLYsU4",
      "include_colab_link": true
    },
    "kernelspec": {
      "name": "python3",
      "display_name": "Python 3"
    },
    "language_info": {
      "name": "python"
    },
    "accelerator": "GPU"
  },
  "cells": [
    {
      "cell_type": "markdown",
      "metadata": {
        "id": "view-in-github",
        "colab_type": "text"
      },
      "source": [
        "<a href=\"https://colab.research.google.com/github/sajan-sarker/Deep_Learning_with_PyTorch/blob/main/05_CNN_Fashion_MNIST_PyTorch_v2.ipynb\" target=\"_parent\"><img src=\"https://colab.research.google.com/assets/colab-badge.svg\" alt=\"Open In Colab\"/></a>"
      ]
    },
    {
      "cell_type": "code",
      "execution_count": 2,
      "metadata": {
        "colab": {
          "base_uri": "https://localhost:8080/"
        },
        "collapsed": true,
        "id": "DVPZ3WOIGkpm",
        "outputId": "8043a722-a277-48d1-c5a5-3f1eee45ce87"
      },
      "outputs": [
        {
          "output_type": "stream",
          "name": "stdout",
          "text": [
            "Requirement already satisfied: torchinfo in /usr/local/lib/python3.11/dist-packages (1.8.0)\n",
            "Collecting optuna\n",
            "  Downloading optuna-4.2.1-py3-none-any.whl.metadata (17 kB)\n",
            "Collecting alembic>=1.5.0 (from optuna)\n",
            "  Downloading alembic-1.15.1-py3-none-any.whl.metadata (7.2 kB)\n",
            "Collecting colorlog (from optuna)\n",
            "  Downloading colorlog-6.9.0-py3-none-any.whl.metadata (10 kB)\n",
            "Requirement already satisfied: numpy in /usr/local/lib/python3.11/dist-packages (from optuna) (2.0.2)\n",
            "Requirement already satisfied: packaging>=20.0 in /usr/local/lib/python3.11/dist-packages (from optuna) (24.2)\n",
            "Requirement already satisfied: sqlalchemy>=1.4.2 in /usr/local/lib/python3.11/dist-packages (from optuna) (2.0.39)\n",
            "Requirement already satisfied: tqdm in /usr/local/lib/python3.11/dist-packages (from optuna) (4.67.1)\n",
            "Requirement already satisfied: PyYAML in /usr/local/lib/python3.11/dist-packages (from optuna) (6.0.2)\n",
            "Requirement already satisfied: Mako in /usr/lib/python3/dist-packages (from alembic>=1.5.0->optuna) (1.1.3)\n",
            "Requirement already satisfied: typing-extensions>=4.12 in /usr/local/lib/python3.11/dist-packages (from alembic>=1.5.0->optuna) (4.12.2)\n",
            "Requirement already satisfied: greenlet!=0.4.17 in /usr/local/lib/python3.11/dist-packages (from sqlalchemy>=1.4.2->optuna) (3.1.1)\n",
            "Downloading optuna-4.2.1-py3-none-any.whl (383 kB)\n",
            "\u001b[2K   \u001b[90m━━━━━━━━━━━━━━━━━━━━━━━━━━━━━━━━━━━━━━━━\u001b[0m \u001b[32m383.6/383.6 kB\u001b[0m \u001b[31m11.1 MB/s\u001b[0m eta \u001b[36m0:00:00\u001b[0m\n",
            "\u001b[?25hDownloading alembic-1.15.1-py3-none-any.whl (231 kB)\n",
            "\u001b[2K   \u001b[90m━━━━━━━━━━━━━━━━━━━━━━━━━━━━━━━━━━━━━━━━\u001b[0m \u001b[32m231.8/231.8 kB\u001b[0m \u001b[31m20.2 MB/s\u001b[0m eta \u001b[36m0:00:00\u001b[0m\n",
            "\u001b[?25hDownloading colorlog-6.9.0-py3-none-any.whl (11 kB)\n",
            "Installing collected packages: colorlog, alembic, optuna\n",
            "Successfully installed alembic-1.15.1 colorlog-6.9.0 optuna-4.2.1\n"
          ]
        }
      ],
      "source": [
        "!pip install torchinfo\n",
        "!pip install optuna"
      ]
    },
    {
      "cell_type": "code",
      "source": [
        "%matplotlib inline\n",
        "import matplotlib.pyplot as plt\n",
        "\n",
        "import numpy as np\n",
        "import pandas as pd\n",
        "import os\n",
        "import random\n",
        "import warnings\n",
        "import torch\n",
        "import optuna\n",
        "import torchinfo\n",
        "import torch.nn as nn\n",
        "import torch.optim as optim\n",
        "\n",
        "from torch.utils.data import Dataset, DataLoader\n",
        "from torchvision import transforms\n",
        "from torchinfo import summary\n",
        "from sklearn.model_selection import train_test_split\n",
        "warnings.filterwarnings('ignore')"
      ],
      "metadata": {
        "id": "7YEQ02ScHb4g"
      },
      "execution_count": 13,
      "outputs": []
    },
    {
      "cell_type": "code",
      "source": [
        "# check for device\n",
        "device = torch.device('cuda' if torch.cuda.is_available() else 'cpu')\n",
        "print((\"Using :\" + torch.cuda.get_device_name(0)) if device.type == 'cuda' else 'Using: CPU')"
      ],
      "metadata": {
        "colab": {
          "base_uri": "https://localhost:8080/"
        },
        "id": "Q15Ng2LEHb1_",
        "outputId": "2da3131b-01c6-42bc-9bb1-ea46fc083bc0"
      },
      "execution_count": 5,
      "outputs": [
        {
          "output_type": "stream",
          "name": "stdout",
          "text": [
            "Using :Tesla T4\n"
          ]
        }
      ]
    },
    {
      "cell_type": "code",
      "source": [
        "random.seed(42)\n",
        "np.random.seed(42)\n",
        "torch.manual_seed(42)"
      ],
      "metadata": {
        "colab": {
          "base_uri": "https://localhost:8080/"
        },
        "id": "RG6RpTZAHbz2",
        "outputId": "79a552fd-8a86-496a-bdce-38c33d1c3592"
      },
      "execution_count": 6,
      "outputs": [
        {
          "output_type": "execute_result",
          "data": {
            "text/plain": [
              "<torch._C.Generator at 0x786fb4ada950>"
            ]
          },
          "metadata": {},
          "execution_count": 6
        }
      ]
    },
    {
      "cell_type": "markdown",
      "source": [
        "*****\n",
        "### Importing Dataset\n",
        "\n",
        "Dataset Source: https://www.kaggle.com/datasets/zalando-research/fashionmnist"
      ],
      "metadata": {
        "id": "jvk71_zJHfye"
      }
    },
    {
      "cell_type": "code",
      "source": [
        "import kagglehub\n",
        "#fashion-mnist_train.csv\n",
        "# Download latest version\n",
        "path = kagglehub.dataset_download(\"zalando-research/fashionmnist\")\n",
        "\n",
        "df = pd.read_csv(path+'/fashion-mnist_train.csv')\n",
        "df_test = pd.read_csv(path+'/fashion-mnist_test.csv')\n",
        "\n",
        "print(\"Train Shape:\",df.shape)\n",
        "print(\"Test Shape:\",df_test.shape)"
      ],
      "metadata": {
        "colab": {
          "base_uri": "https://localhost:8080/"
        },
        "id": "w6thMUx_HbxX",
        "outputId": "17fd1f1c-52e4-449d-b40f-58da7047faab"
      },
      "execution_count": 7,
      "outputs": [
        {
          "output_type": "stream",
          "name": "stdout",
          "text": [
            "Downloading from https://www.kaggle.com/api/v1/datasets/download/zalando-research/fashionmnist?dataset_version_number=4...\n"
          ]
        },
        {
          "output_type": "stream",
          "name": "stderr",
          "text": [
            "100%|██████████| 68.8M/68.8M [00:00<00:00, 139MB/s]"
          ]
        },
        {
          "output_type": "stream",
          "name": "stdout",
          "text": [
            "Extracting files...\n"
          ]
        },
        {
          "output_type": "stream",
          "name": "stderr",
          "text": [
            "\n"
          ]
        },
        {
          "output_type": "stream",
          "name": "stdout",
          "text": [
            "Train Shape: (60000, 785)\n",
            "Test Shape: (10000, 785)\n"
          ]
        }
      ]
    },
    {
      "cell_type": "code",
      "source": [
        "# create a 4x4 grid of images\n",
        "fig, axes = plt.subplots(2, 5, figsize=(10, 5))\n",
        "fig.suptitle(\"First 10 images\")\n",
        "\n",
        "# plot the first 16 images from the dataset\n",
        "for i, ax in enumerate(axes.flat):\n",
        "  img = df.iloc[i, 1:].values.reshape(28, 28) # rehsape 28x28\n",
        "  ax.imshow(img)\n",
        "  ax.set_title(f\"Label: {df.iloc[i, 0]}\")\n",
        "plt.tight_layout(rect=[0,0,1,0.96]) # adjust layout to fit the title\n",
        "plt.show()"
      ],
      "metadata": {
        "colab": {
          "base_uri": "https://localhost:8080/",
          "height": 511
        },
        "id": "izHWpiClHbuu",
        "outputId": "95c517da-b6f4-40ef-88df-277dc87ffef3"
      },
      "execution_count": 8,
      "outputs": [
        {
          "output_type": "display_data",
          "data": {
            "text/plain": [
              "<Figure size 1000x500 with 10 Axes>"
            ],
            "image/png": "[encoded data removed]"
          },
          "metadata": {}
        }
      ]
    },
    {
      "cell_type": "code",
      "source": [
        "# train, val, & test split\n",
        "X = df.iloc[:, 1:].values\n",
        "y = df.iloc[:, 0].values\n",
        "\n",
        "X_train, X_val, y_train, y_val = train_test_split(X, y, test_size=0.20, random_state=42)\n",
        "\n",
        "X_test = df_test.iloc[:, 1:].values\n",
        "y_test = df_test.iloc[:, 0].values\n",
        "\n",
        "# scaling\n",
        "X_train = X_train/255.0\n",
        "X_val = X_val/255.0\n",
        "X_test = X_test/255.0"
      ],
      "metadata": {
        "id": "FIQ8gimdHbsf"
      },
      "execution_count": 19,
      "outputs": []
    },
    {
      "cell_type": "markdown",
      "source": [
        "*****\n",
        "### Dataset Class"
      ],
      "metadata": {
        "id": "p_5b5Vg6HmUm"
      }
    },
    {
      "cell_type": "code",
      "source": [
        "# Dataset Class\n",
        "class CNNDataset(Dataset):\n",
        "  def __init__(self, X, y, transform=None):\n",
        "    self.X = torch.FloatTensor(X).reshape(-1, 1, 28, 28) # batch size - channel - weight - height\n",
        "    self.y = torch.LongTensor(y)\n",
        "    self.transform = transform\n",
        "\n",
        "  def __len__(self):\n",
        "    return len(self.X)\n",
        "\n",
        "  def __getitem__(self, idx):\n",
        "    feature, label = self.X[idx], self.y[idx]\n",
        "    if self.transform:\n",
        "      feature = self.transform(feature.squeeze(0).numpy())  # apply transform\n",
        "    return feature, label"
      ],
      "metadata": {
        "id": "arJB5VJxHbqH"
      },
      "execution_count": 10,
      "outputs": []
    },
    {
      "cell_type": "markdown",
      "source": [
        "*****\n",
        "### Network"
      ],
      "metadata": {
        "id": "6b0vaNfJHoz_"
      }
    },
    {
      "cell_type": "code",
      "source": [
        "class CNN(nn.Module):\n",
        "  def __init__(self, input_channel, output_dim, num_conv_layers, num_filters, kernel_size, num_fc_layers, fc_layer_size, dropout_rate):\n",
        "    super().__init__()\n",
        "\n",
        "    # feature extraction layers\n",
        "    input_channel = input_channel\n",
        "    layers = [] # dynamic network\n",
        "    for _ in range(num_conv_layers):\n",
        "      layers.append(nn.Conv2d(input_channel, num_filters, kernel_size=kernel_size, padding='same'))\n",
        "      layers.append(nn.ReLU())\n",
        "      layers.append(nn.BatchNorm2d(num_filters))\n",
        "      layers.append(nn.MaxPool2d(kernel_size=2, stride=2))\n",
        "      input_channel = num_filters # update for next layer\n",
        "\n",
        "\n",
        "    self.features = nn.Sequential(*layers)\n",
        "\n",
        "    # fc layers\n",
        "    fc_layers = [nn.Flatten()]  # dynamic network\n",
        "    input_size = num_filters * (28 // (2 ** num_conv_layers)) ** 2\n",
        "    for _ in range(num_fc_layers):\n",
        "      fc_layers.append(nn.Linear(input_size, fc_layer_size))\n",
        "      fc_layers.append(nn.ReLU())\n",
        "      fc_layers.append(nn.Dropout(dropout_rate))\n",
        "      input_size = fc_layer_size\n",
        "\n",
        "    fc_layers.append(nn.Linear(input_size, output_dim))\n",
        "\n",
        "    self.classifier = nn.Sequential(*fc_layers)\n",
        "\n",
        "  def forward(self, X):\n",
        "    X = self.features(X)\n",
        "    X = self.classifier(X)\n",
        "    return X"
      ],
      "metadata": {
        "id": "FkCm5vBSHbnv"
      },
      "execution_count": 34,
      "outputs": []
    },
    {
      "cell_type": "markdown",
      "source": [
        "*****\n",
        "### Hyperparameter tuning"
      ],
      "metadata": {
        "id": "9HkS5s7FUfxp"
      }
    },
    {
      "cell_type": "code",
      "source": [
        "# define the objective funciton for optuna\n",
        "def objective(input_channel, output_dim, criterion, train_dataset, val_dataset, trial):\n",
        "  # hyperparameters to tune\n",
        "  num_conv_layers = trial.suggest_int('num_conv_layers', 1, 3)\n",
        "  num_filters = trial.suggest_categorical('num_filters', [16, 32, 64, 128])\n",
        "  kernel_size = trial.suggest_categorical('kernel_size', [3,5])\n",
        "  num_fc_layers = trial.suggest_int('num_fc_layers', 2, 4)\n",
        "  fc_layer_size = trial.suggest_categorical('fc_layer_size', [64, 128, 256])\n",
        "  dropout_rate = trial.suggest_uniform('dropout_rate', 0.2, 0.5)\n",
        "  weight_decay = trial.suggest_loguniform('weight_decay', 1e-5, 1e-2)\n",
        "  learning_rate = trial.suggest_loguniform('learning_rate', 1e-4, 1e-2)\n",
        "  batch_size = trial.suggest_categorical('batch_size', [32, 64, 128])\n",
        "  num_epochs = trial.suggest_int('num_epochs', 20, 50)\n",
        "\n",
        "  # init model\n",
        "  model = CNN(input_channel, output_dim, num_conv_layers, num_filters, kernel_size, num_fc_layers, fc_layer_size, dropout_rate).to(device)\n",
        "  # optimizer\n",
        "  optimizer = optim.SGD(model.parameters(), lr=learning_rate, weight_decay=weight_decay)\n",
        "  # train & val loader object\n",
        "  train_loader = DataLoader(train_dataset, batch_size=batch_size, shuffle=True, pin_memory=True)\n",
        "  val_loader = DataLoader(val_dataset, batch_size=batch_size, shuffle=False, pin_memory=True)\n",
        "\n",
        "  # training loop\n",
        "  model.train()\n",
        "  for epoch in range(num_epochs):\n",
        "      for X, y in train_loader:\n",
        "          X, y = X.to(device), y.to(device) # mve to gpu\n",
        "          # forward pass\n",
        "          pred = model(X)\n",
        "          # calculate loss\n",
        "          loss = criterion(pred, y)\n",
        "          # backward pass\n",
        "          optimizer.zero_grad()\n",
        "          loss.backward()\n",
        "          # update gradient\n",
        "          optimizer.step()\n",
        "\n",
        "  # validation loop\n",
        "  model.eval()\n",
        "  total = 0\n",
        "  correct = 0\n",
        "  with torch.no_grad():\n",
        "    for X, y in val_loader:\n",
        "      X, y = X.to(device), y.to(device) # move to gpu\n",
        "\n",
        "      pred = model(X)\n",
        "      _, predicted = torch.max(pred, 1)\n",
        "      total += y.shape[0]\n",
        "      correct += (predicted == y).sum().item()\n",
        "\n",
        "  accuracy = correct / total\n",
        "  return accuracy"
      ],
      "metadata": {
        "id": "KHcBcszpMf4X"
      },
      "execution_count": 32,
      "outputs": []
    },
    {
      "cell_type": "code",
      "source": [
        "# train, val & test dataset\n",
        "train_dataset = CNNDataset(X_train, y_train)\n",
        "val_dataset = CNNDataset(X_val, y_val)\n",
        "test_dataset = CNNDataset(X_test, y_test)"
      ],
      "metadata": {
        "id": "YtcEp-iEHblf"
      },
      "execution_count": 28,
      "outputs": []
    },
    {
      "cell_type": "code",
      "source": [
        "input_channel = 1\n",
        "output_dim = 10\n",
        "criterion = nn.CrossEntropyLoss()\n",
        "n_trials = 20\n",
        "\n",
        "# init optuna study with minimize validation loss\n",
        "pruner = optuna.pruners.MedianPruner()\n",
        "study = optuna.create_study(direction='maximize', pruner=pruner)\n",
        "study.optimize(\n",
        "    lambda trial: objective(input_channel, output_dim, criterion, train_dataset, val_dataset, trial),\n",
        "    n_trials = n_trials,\n",
        "    n_jobs=3\n",
        ")"
      ],
      "metadata": {
        "id": "2Y-Xk4LzHbjm",
        "colab": {
          "base_uri": "https://localhost:8080/"
        },
        "outputId": "04843d3e-2ec7-4063-cf96-0777d7238611"
      },
      "execution_count": 36,
      "outputs": [
        {
          "output_type": "stream",
          "name": "stderr",
          "text": [
            "[I 2025-03-21 15:15:05,629] A new study created in memory with name: no-name-35a9d9f6-74e0-4b0f-9ebd-122f5195b8b6\n",
            "[I 2025-03-21 15:17:13,481] Trial 14 finished with value: 0.9184166666666667 and parameters: {'num_conv_layers': 2, 'num_filters': 128, 'kernel_size': 5, 'num_fc_layers': 4, 'fc_layer_size': 256, 'dropout_rate': 0.4247137569705108, 'weight_decay': 1.23456394564125e-05, 'learning_rate': 0.0015378124750358073, 'batch_size': 32, 'num_epochs': 29}. Best is trial 7 with value: 0.9211666666666667.\n",
            "[I 2025-03-21 15:17:52,382] Trial 13 finished with value: 0.92175 and parameters: {'num_conv_layers': 2, 'num_filters': 128, 'kernel_size': 5, 'num_fc_layers': 4, 'fc_layer_size': 256, 'dropout_rate': 0.4731533749703076, 'weight_decay': 1.3779749235699112e-05, 'learning_rate': 0.0016710496549467119, 'batch_size': 32, 'num_epochs': 28}. Best is trial 13 with value: 0.92175.\n",
            "[I 2025-03-21 15:20:01,574] Trial 15 finished with value: 0.9179166666666667 and parameters: {'num_conv_layers': 2, 'num_filters': 128, 'kernel_size': 5, 'num_fc_layers': 4, 'fc_layer_size': 256, 'dropout_rate': 0.42186788641384404, 'weight_decay': 1.232742486482963e-05, 'learning_rate': 0.001395714681836095, 'batch_size': 32, 'num_epochs': 25}. Best is trial 13 with value: 0.92175.\n",
            "[I 2025-03-21 15:20:07,106] Trial 0 finished with value: 0.9111666666666667 and parameters: {'num_conv_layers': 1, 'num_filters': 64, 'kernel_size': 5, 'num_fc_layers': 4, 'fc_layer_size': 128, 'dropout_rate': 0.24630826109621137, 'weight_decay': 3.190502611791675e-05, 'learning_rate': 0.0027035651298445047, 'batch_size': 64, 'num_epochs': 23}. Best is trial 0 with value: 0.9111666666666667.\n",
            "[I 2025-03-21 15:21:58,129] Trial 2 finished with value: 0.9060833333333334 and parameters: {'num_conv_layers': 2, 'num_filters': 32, 'kernel_size': 3, 'num_fc_layers': 3, 'fc_layer_size': 256, 'dropout_rate': 0.485295292530702, 'weight_decay': 0.0008342259931890432, 'learning_rate': 0.009964495349072063, 'batch_size': 64, 'num_epochs': 30}. Best is trial 0 with value: 0.9111666666666667.\n",
            "[I 2025-03-21 15:22:12,175] Trial 3 finished with value: 0.91825 and parameters: {'num_conv_layers': 2, 'num_filters': 32, 'kernel_size': 3, 'num_fc_layers': 2, 'fc_layer_size': 256, 'dropout_rate': 0.3763113338918962, 'weight_decay': 1.6141804957930474e-05, 'learning_rate': 0.005096510994505365, 'batch_size': 64, 'num_epochs': 21}. Best is trial 3 with value: 0.91825.\n",
            "[I 2025-03-21 15:25:17,165] Trial 5 finished with value: 0.7804166666666666 and parameters: {'num_conv_layers': 2, 'num_filters': 32, 'kernel_size': 5, 'num_fc_layers': 2, 'fc_layer_size': 64, 'dropout_rate': 0.320725333904714, 'weight_decay': 8.450173934242947e-05, 'learning_rate': 0.00011132486482488238, 'batch_size': 64, 'num_epochs': 23}. Best is trial 3 with value: 0.91825.\n",
            "[I 2025-03-21 15:25:30,376] Trial 1 finished with value: 0.9125833333333333 and parameters: {'num_conv_layers': 2, 'num_filters': 32, 'kernel_size': 5, 'num_fc_layers': 2, 'fc_layer_size': 128, 'dropout_rate': 0.3359112037879636, 'weight_decay': 0.0009824995985011004, 'learning_rate': 0.001186060800827013, 'batch_size': 64, 'num_epochs': 40}. Best is trial 3 with value: 0.91825.\n",
            "[I 2025-03-21 15:31:00,185] Trial 4 finished with value: 0.912 and parameters: {'num_conv_layers': 3, 'num_filters': 128, 'kernel_size': 5, 'num_fc_layers': 4, 'fc_layer_size': 64, 'dropout_rate': 0.35791809982118594, 'weight_decay': 0.0013185171145480774, 'learning_rate': 0.005138242475973989, 'batch_size': 64, 'num_epochs': 44}. Best is trial 3 with value: 0.91825.\n",
            "[I 2025-03-21 15:33:04,763] Trial 6 finished with value: 0.8778333333333334 and parameters: {'num_conv_layers': 3, 'num_filters': 32, 'kernel_size': 5, 'num_fc_layers': 4, 'fc_layer_size': 128, 'dropout_rate': 0.4544318046902577, 'weight_decay': 1.4381604075932386e-05, 'learning_rate': 0.0010676513765918397, 'batch_size': 32, 'num_epochs': 28}. Best is trial 3 with value: 0.91825.\n",
            "[I 2025-03-21 15:33:40,129] Trial 8 finished with value: 0.4675 and parameters: {'num_conv_layers': 3, 'num_filters': 16, 'kernel_size': 3, 'num_fc_layers': 3, 'fc_layer_size': 64, 'dropout_rate': 0.45709442802226957, 'weight_decay': 0.004701348015261381, 'learning_rate': 0.00025646930502396057, 'batch_size': 128, 'num_epochs': 37}. Best is trial 3 with value: 0.91825.\n",
            "[I 2025-03-21 15:35:03,195] Trial 7 finished with value: 0.9133333333333333 and parameters: {'num_conv_layers': 2, 'num_filters': 64, 'kernel_size': 5, 'num_fc_layers': 3, 'fc_layer_size': 64, 'dropout_rate': 0.26006836922044196, 'weight_decay': 0.0008408523240117992, 'learning_rate': 0.005146595848882919, 'batch_size': 64, 'num_epochs': 48}. Best is trial 3 with value: 0.91825.\n",
            "[I 2025-03-21 15:36:46,975] Trial 10 finished with value: 0.8733333333333333 and parameters: {'num_conv_layers': 3, 'num_filters': 16, 'kernel_size': 5, 'num_fc_layers': 3, 'fc_layer_size': 128, 'dropout_rate': 0.3108557956811784, 'weight_decay': 2.2387205620628167e-05, 'learning_rate': 0.001110771597670261, 'batch_size': 128, 'num_epochs': 38}. Best is trial 3 with value: 0.91825.\n",
            "[I 2025-03-21 15:37:03,004] Trial 11 finished with value: 0.7725833333333333 and parameters: {'num_conv_layers': 2, 'num_filters': 32, 'kernel_size': 3, 'num_fc_layers': 2, 'fc_layer_size': 256, 'dropout_rate': 0.3664235271967273, 'weight_decay': 0.00039415466132516663, 'learning_rate': 0.0001897403043644788, 'batch_size': 128, 'num_epochs': 25}. Best is trial 3 with value: 0.91825.\n",
            "[I 2025-03-21 15:38:52,671] Trial 9 finished with value: 0.9153333333333333 and parameters: {'num_conv_layers': 1, 'num_filters': 128, 'kernel_size': 3, 'num_fc_layers': 3, 'fc_layer_size': 128, 'dropout_rate': 0.328064348159691, 'weight_decay': 7.055032828870158e-05, 'learning_rate': 0.00196120502111064, 'batch_size': 64, 'num_epochs': 50}. Best is trial 3 with value: 0.91825.\n",
            "[I 2025-03-21 15:41:22,537] Trial 12 finished with value: 0.8969166666666667 and parameters: {'num_conv_layers': 1, 'num_filters': 128, 'kernel_size': 3, 'num_fc_layers': 2, 'fc_layer_size': 256, 'dropout_rate': 0.40234029800888754, 'weight_decay': 0.00011350625233335084, 'learning_rate': 0.0003161552581773631, 'batch_size': 32, 'num_epochs': 20}. Best is trial 3 with value: 0.91825.\n",
            "[I 2025-03-21 15:42:52,625] Trial 13 finished with value: 0.9195833333333333 and parameters: {'num_conv_layers': 1, 'num_filters': 64, 'kernel_size': 3, 'num_fc_layers': 2, 'fc_layer_size': 256, 'dropout_rate': 0.21864630394361684, 'weight_decay': 9.921052998014664e-05, 'learning_rate': 0.003149601815626862, 'batch_size': 64, 'num_epochs': 49}. Best is trial 13 with value: 0.9195833333333333.\n",
            "[I 2025-03-21 15:46:42,179] Trial 16 finished with value: 0.9181666666666667 and parameters: {'num_conv_layers': 1, 'num_filters': 64, 'kernel_size': 3, 'num_fc_layers': 2, 'fc_layer_size': 256, 'dropout_rate': 0.21117068803477074, 'weight_decay': 1.1028236229958084e-05, 'learning_rate': 0.003612978744653141, 'batch_size': 64, 'num_epochs': 30}. Best is trial 13 with value: 0.9195833333333333.\n",
            "[I 2025-03-21 15:47:41,889] Trial 15 finished with value: 0.9198333333333333 and parameters: {'num_conv_layers': 1, 'num_filters': 128, 'kernel_size': 3, 'num_fc_layers': 2, 'fc_layer_size': 256, 'dropout_rate': 0.20617970675953287, 'weight_decay': 7.76724962368077e-05, 'learning_rate': 0.002533989488304123, 'batch_size': 64, 'num_epochs': 50}. Best is trial 15 with value: 0.9198333333333333.\n",
            "[I 2025-03-21 15:50:01,747] Trial 14 finished with value: 0.9218333333333333 and parameters: {'num_conv_layers': 1, 'num_filters': 128, 'kernel_size': 3, 'num_fc_layers': 2, 'fc_layer_size': 256, 'dropout_rate': 0.400940563647793, 'weight_decay': 7.366837358061805e-05, 'learning_rate': 0.0026117421017039576, 'batch_size': 32, 'num_epochs': 50}. Best is trial 14 with value: 0.9218333333333333.\n",
            "[I 2025-03-21 15:55:50,041] Trial 17 finished with value: 0.9193333333333333 and parameters: {'num_conv_layers': 1, 'num_filters': 64, 'kernel_size': 3, 'num_fc_layers': 2, 'fc_layer_size': 256, 'dropout_rate': 0.4037748910877426, 'weight_decay': 0.0001802442499113327, 'learning_rate': 0.009070931515993209, 'batch_size': 32, 'num_epochs': 43}. Best is trial 14 with value: 0.9218333333333333.\n",
            "[I 2025-03-21 15:56:31,025] Trial 18 finished with value: 0.9185833333333333 and parameters: {'num_conv_layers': 1, 'num_filters': 128, 'kernel_size': 3, 'num_fc_layers': 2, 'fc_layer_size': 256, 'dropout_rate': 0.2109560653005205, 'weight_decay': 0.000218224561529358, 'learning_rate': 0.0006402263646124574, 'batch_size': 32, 'num_epochs': 45}. Best is trial 14 with value: 0.9218333333333333.\n",
            "[I 2025-03-21 15:57:13,731] Trial 19 finished with value: 0.9186666666666666 and parameters: {'num_conv_layers': 1, 'num_filters': 128, 'kernel_size': 3, 'num_fc_layers': 2, 'fc_layer_size': 256, 'dropout_rate': 0.41943616840452946, 'weight_decay': 0.00026985531380753367, 'learning_rate': 0.0005436347446350261, 'batch_size': 32, 'num_epochs': 44}. Best is trial 14 with value: 0.9218333333333333.\n"
          ]
        }
      ]
    },
    {
      "cell_type": "markdown",
      "source": [
        "*****\n",
        "### Final Classifier"
      ],
      "metadata": {
        "id": "cYSHaj_dUloJ"
      }
    },
    {
      "cell_type": "code",
      "source": [
        "print(\"Best Hyper parameters\", study.best_params)\n",
        "print(\"Best Accuracy:\", study.best_value)"
      ],
      "metadata": {
        "colab": {
          "base_uri": "https://localhost:8080/"
        },
        "id": "MWq-TprjRfiP",
        "outputId": "e3c6838e-305e-43a3-dc9a-85d25eb5d8a3"
      },
      "execution_count": 37,
      "outputs": [
        {
          "output_type": "stream",
          "name": "stdout",
          "text": [
            "Best Hyper parameters {'num_conv_layers': 1, 'num_filters': 128, 'kernel_size': 3, 'num_fc_layers': 2, 'fc_layer_size': 256, 'dropout_rate': 0.400940563647793, 'weight_decay': 7.366837358061805e-05, 'learning_rate': 0.0026117421017039576, 'batch_size': 32, 'num_epochs': 50}\n",
            "Best Accuracy: 0.9218333333333333\n"
          ]
        }
      ]
    },
    {
      "cell_type": "code",
      "source": [
        "# init final classifier with best params\n",
        "best_params = study.best_params\n",
        "cnn_classifier = CNN(\n",
        "    input_channel = input_channel,\n",
        "    output_dim = output_dim,\n",
        "    num_conv_layers = best_params['num_conv_layers'],\n",
        "    num_filters = best_params['num_filters'],\n",
        "    kernel_size = best_params['kernel_size'],\n",
        "    num_fc_layers = best_params['num_fc_layers'],\n",
        "    fc_layer_size = best_params['fc_layer_size'],\n",
        "    dropout_rate = best_params['dropout_rate']\n",
        ").to(device)\n",
        "\n",
        "optimizer = optim.SGD(cnn_classifier.parameters(), lr=best_params['learning_rate'], weight_decay=best_params['weight_decay'])\n",
        "train_loader = DataLoader(train_dataset, batch_size=best_params['batch_size'], shuffle=True, pin_memory=True)\n",
        "val_loader = DataLoader(val_dataset, batch_size=best_params['batch_size'], shuffle=False, pin_memory=True)\n",
        "test_loader = DataLoader(test_dataset, batch_size=best_params['batch_size'], shuffle=False, pin_memory=True)\n",
        "num_epochs = best_params['num_epochs']"
      ],
      "metadata": {
        "id": "mldo-bq9RwXo"
      },
      "execution_count": 46,
      "outputs": []
    },
    {
      "cell_type": "code",
      "source": [
        "# training loop\n",
        "cnn_classifier.train()\n",
        "for epoch in range(num_epochs):\n",
        "    total_epoch_loss = 0\n",
        "    for X, y in train_loader:\n",
        "        X, y = X.to(device), y.to(device) # mve to gpu\n",
        "\n",
        "        # forward pass\n",
        "        pred = cnn_classifier(X)\n",
        "\n",
        "        # calculate loss\n",
        "        loss = criterion(pred, y)\n",
        "\n",
        "        # backward pass\n",
        "        optimizer.zero_grad()\n",
        "        loss.backward()\n",
        "\n",
        "        # update gradient\n",
        "        optimizer.step()\n",
        "\n",
        "        total_epoch_loss += loss.item()\n",
        "    avg_loss = total_epoch_loss/len(train_loader)\n",
        "    print(f\"Epoch: {epoch + 1}, Loss: {avg_loss:.4f}\")"
      ],
      "metadata": {
        "id": "gJNvFWcnHbg-",
        "colab": {
          "base_uri": "https://localhost:8080/"
        },
        "outputId": "bfd9762d-78ad-4660-810b-ad4c3ad57e2f"
      },
      "execution_count": 41,
      "outputs": [
        {
          "output_type": "stream",
          "name": "stdout",
          "text": [
            "Epoch: 1, Loss: 0.6262\n",
            "Epoch: 2, Loss: 0.3932\n",
            "Epoch: 3, Loss: 0.3351\n",
            "Epoch: 4, Loss: 0.3020\n",
            "Epoch: 5, Loss: 0.2732\n",
            "Epoch: 6, Loss: 0.2525\n",
            "Epoch: 7, Loss: 0.2348\n",
            "Epoch: 8, Loss: 0.2205\n",
            "Epoch: 9, Loss: 0.2051\n",
            "Epoch: 10, Loss: 0.1921\n",
            "Epoch: 11, Loss: 0.1808\n",
            "Epoch: 12, Loss: 0.1721\n",
            "Epoch: 13, Loss: 0.1601\n",
            "Epoch: 14, Loss: 0.1516\n",
            "Epoch: 15, Loss: 0.1422\n",
            "Epoch: 16, Loss: 0.1334\n",
            "Epoch: 17, Loss: 0.1264\n",
            "Epoch: 18, Loss: 0.1194\n",
            "Epoch: 19, Loss: 0.1123\n",
            "Epoch: 20, Loss: 0.1057\n",
            "Epoch: 21, Loss: 0.1006\n",
            "Epoch: 22, Loss: 0.0928\n",
            "Epoch: 23, Loss: 0.0888\n",
            "Epoch: 24, Loss: 0.0852\n",
            "Epoch: 25, Loss: 0.0781\n",
            "Epoch: 26, Loss: 0.0707\n",
            "Epoch: 27, Loss: 0.0702\n",
            "Epoch: 28, Loss: 0.0637\n",
            "Epoch: 29, Loss: 0.0623\n",
            "Epoch: 30, Loss: 0.0572\n",
            "Epoch: 31, Loss: 0.0541\n",
            "Epoch: 32, Loss: 0.0521\n",
            "Epoch: 33, Loss: 0.0486\n",
            "Epoch: 34, Loss: 0.0468\n",
            "Epoch: 35, Loss: 0.0435\n",
            "Epoch: 36, Loss: 0.0430\n",
            "Epoch: 37, Loss: 0.0384\n",
            "Epoch: 38, Loss: 0.0372\n",
            "Epoch: 39, Loss: 0.0350\n",
            "Epoch: 40, Loss: 0.0344\n",
            "Epoch: 41, Loss: 0.0318\n",
            "Epoch: 42, Loss: 0.0323\n",
            "Epoch: 43, Loss: 0.0292\n",
            "Epoch: 44, Loss: 0.0293\n",
            "Epoch: 45, Loss: 0.0267\n",
            "Epoch: 46, Loss: 0.0263\n",
            "Epoch: 47, Loss: 0.0247\n",
            "Epoch: 48, Loss: 0.0237\n",
            "Epoch: 49, Loss: 0.0231\n",
            "Epoch: 50, Loss: 0.0215\n"
          ]
        }
      ]
    },
    {
      "cell_type": "code",
      "source": [
        "cnn_classifier.eval()"
      ],
      "metadata": {
        "colab": {
          "base_uri": "https://localhost:8080/"
        },
        "id": "qylzI2pamUhN",
        "outputId": "dc3c46ce-fb97-4171-97bf-7c46abd9dcbb"
      },
      "execution_count": 58,
      "outputs": [
        {
          "output_type": "execute_result",
          "data": {
            "text/plain": [
              "CNN(\n",
              "  (features): Sequential(\n",
              "    (0): Conv2d(1, 128, kernel_size=(3, 3), stride=(1, 1), padding=same)\n",
              "    (1): ReLU()\n",
              "    (2): BatchNorm2d(128, eps=1e-05, momentum=0.1, affine=True, track_running_stats=True)\n",
              "    (3): MaxPool2d(kernel_size=2, stride=2, padding=0, dilation=1, ceil_mode=False)\n",
              "  )\n",
              "  (classifier): Sequential(\n",
              "    (0): Flatten(start_dim=1, end_dim=-1)\n",
              "    (1): Linear(in_features=25088, out_features=256, bias=True)\n",
              "    (2): ReLU()\n",
              "    (3): Dropout(p=0.400940563647793, inplace=False)\n",
              "    (4): Linear(in_features=256, out_features=256, bias=True)\n",
              "    (5): ReLU()\n",
              "    (6): Dropout(p=0.400940563647793, inplace=False)\n",
              "    (7): Linear(in_features=256, out_features=10, bias=True)\n",
              "  )\n",
              ")"
            ]
          },
          "metadata": {},
          "execution_count": 58
        }
      ]
    },
    {
      "cell_type": "code",
      "source": [
        "def check_acc(model, data):\n",
        "  # evaluate on data\n",
        "  model.eval()\n",
        "  total = 0\n",
        "  correct = 0\n",
        "  with torch.no_grad():\n",
        "    for X, y in data:\n",
        "      X, y = X.to(device), y.to(device) # move to gpu\n",
        "\n",
        "      pred = model(X)\n",
        "      _, predicted = torch.max(pred, 1)\n",
        "      total += y.size(0)\n",
        "      correct += (predicted == y).sum().item()\n",
        "  return (correct/total) * 100\n",
        "\n",
        "print(f\"Training Accuracy: {check_acc(cnn_classifier, train_loader):.2f}%\")\n",
        "print(f\"Validation Accuracy: {check_acc(cnn_classifier, val_loader):.2f}%\")\n",
        "print(f\"Test Accuracy: {check_acc(cnn_classifier, test_loader):.2f}%\")"
      ],
      "metadata": {
        "colab": {
          "base_uri": "https://localhost:8080/"
        },
        "id": "L6VOp3cukIn0",
        "outputId": "7c66b284-fb57-45a0-a46e-d936059bcbbe"
      },
      "execution_count": 64,
      "outputs": [
        {
          "output_type": "stream",
          "name": "stdout",
          "text": [
            "Training Accuracy: 96.73%\n",
            "Validation Accuracy: 91.85%\n",
            "Test Accuracy: 92.36%\n"
          ]
        }
      ]
    }
  ]
}